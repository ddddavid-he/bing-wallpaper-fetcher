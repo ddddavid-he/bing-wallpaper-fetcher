{
 "cells": [
  {
   "cell_type": "code",
   "execution_count": 7,
   "metadata": {},
   "outputs": [],
   "source": [
    "import joblib as jbl\n",
    "import time\n",
    "import datetime\n",
    "dates = jbl.load('dates.jbl')\n",
    "urls = jbl.load('urls.jbl')\n",
    "titles = jbl.load('titles.jbl')\n",
    "src = jbl.load('source_list.jbl')"
   ]
  },
  {
   "cell_type": "code",
   "execution_count": 8,
   "metadata": {},
   "outputs": [],
   "source": [
    "dates = [i.replace('\\n', '') for i in dates]\n",
    "urls = [i.replace('\\n', '') for i in urls]\n",
    "titles = [i.replace('\\n', '') for i in titles]\n",
    "# dates = [i.replace('\\n', '') for i in dates]"
   ]
  },
  {
   "cell_type": "code",
   "execution_count": 9,
   "metadata": {},
   "outputs": [
    {
     "data": {
      "text/plain": [
       "['20220520',\n",
       " '20220519',\n",
       " '20220518',\n",
       " '20220517',\n",
       " '20220516',\n",
       " '20220515',\n",
       " '20220514',\n",
       " '20220513']"
      ]
     },
     "execution_count": 9,
     "metadata": {},
     "output_type": "execute_result"
    }
   ],
   "source": [
    "src['date']"
   ]
  },
  {
   "cell_type": "code",
   "execution_count": 12,
   "metadata": {},
   "outputs": [],
   "source": [
    "def trans1(d):\n",
    "    return datetime.date(year=int(d[:4]), month=int(d[4:6]), day=int(d[6:]))\n",
    "def trans2(d):\n",
    "    return datetime.date(year=2000+int(d[:2]), month=int(d[2:4]), day=int(d[4:]))\n",
    "delta = datetime.timedelta"
   ]
  },
  {
   "cell_type": "code",
   "execution_count": 14,
   "metadata": {},
   "outputs": [
    {
     "data": {
      "text/plain": [
       "datetime.date(2022, 4, 30)"
      ]
     },
     "execution_count": 14,
     "metadata": {},
     "output_type": "execute_result"
    }
   ],
   "source": [
    "trans1(src['date'][0]) + delta(days=-20)"
   ]
  },
  {
   "cell_type": "code",
   "execution_count": 21,
   "metadata": {},
   "outputs": [
    {
     "data": {
      "text/plain": [
       "'220430'"
      ]
     },
     "execution_count": 21,
     "metadata": {},
     "output_type": "execute_result"
    }
   ],
   "source": [
    "Out[14].strftime('%y%m%d')"
   ]
  },
  {
   "cell_type": "code",
   "execution_count": 25,
   "metadata": {},
   "outputs": [],
   "source": [
    "dates2 = [(trans2(i)+delta(days=-1)).strftime('%Y%m%d') for i in dates]"
   ]
  },
  {
   "cell_type": "code",
   "execution_count": 31,
   "metadata": {},
   "outputs": [],
   "source": [
    "dates = src['date'] + dates2[7:]"
   ]
  },
  {
   "cell_type": "code",
   "execution_count": 33,
   "metadata": {},
   "outputs": [
    {
     "data": {
      "text/plain": [
       "465"
      ]
     },
     "execution_count": 33,
     "metadata": {},
     "output_type": "execute_result"
    }
   ],
   "source": [
    "len(dates2[7:])"
   ]
  },
  {
   "cell_type": "code",
   "execution_count": 34,
   "metadata": {},
   "outputs": [],
   "source": [
    "urls = src['url'] + urls[7:]"
   ]
  },
  {
   "cell_type": "code",
   "execution_count": 35,
   "metadata": {},
   "outputs": [],
   "source": [
    "descriptions = src['description'] + titles[7:]\n"
   ]
  },
  {
   "cell_type": "code",
   "execution_count": 39,
   "metadata": {},
   "outputs": [],
   "source": [
    "titles = ['Bing']*473\n",
    "# len(descriptions)\n",
    "# len(titles)"
   ]
  },
  {
   "cell_type": "code",
   "execution_count": 40,
   "metadata": {},
   "outputs": [],
   "source": [
    "src['date'] = dates\n",
    "src['url'] = urls\n",
    "src['description'] = descriptions\n",
    "src['title']= titles"
   ]
  },
  {
   "cell_type": "code",
   "execution_count": 41,
   "metadata": {},
   "outputs": [
    {
     "data": {
      "text/plain": [
       "'20220512'"
      ]
     },
     "execution_count": 41,
     "metadata": {},
     "output_type": "execute_result"
    }
   ],
   "source": [
    "src['date'][8]"
   ]
  },
  {
   "cell_type": "code",
   "execution_count": 42,
   "metadata": {},
   "outputs": [],
   "source": [
    "src['url'][8] = 'https://cn.bing.com//th?id=OHR.RiverBrathay_ZH-CN2718424663_UHD.jpg'\n",
    "src['description'][8] = '布拉塞河上的雾天黎明，英国湖区国家公园 (© fstopphotography/Getty Images)'\n",
    "src['title'][8] = '映湖之美'"
   ]
  },
  {
   "cell_type": "code",
   "execution_count": 47,
   "metadata": {},
   "outputs": [
    {
     "data": {
      "text/plain": [
       "['source_list.jbl']"
      ]
     },
     "execution_count": 47,
     "metadata": {},
     "output_type": "execute_result"
    }
   ],
   "source": [
    "jbl.dump(src, 'source_list.jbl')"
   ]
  },
  {
   "cell_type": "code",
   "execution_count": 44,
   "metadata": {},
   "outputs": [],
   "source": [
    "titles = ['谢谢你们，小蜜蜂！',\n",
    " '站在近300米高空的玻璃上',\n",
    " '位于弗伦斯堡峡湾的水上城堡',\n",
    " '巧夺天工的印加智慧',\n",
    " '小穴鸮们会与你不期而遇',\n",
    " '准备迎接血月',\n",
    " '可靠的移水器',\n",
    " '独自在草原上']"
   ]
  },
  {
   "cell_type": "code",
   "execution_count": 45,
   "metadata": {},
   "outputs": [],
   "source": [
    "for i in range(8):\n",
    "    src['title'][i] = titles[i]"
   ]
  },
  {
   "cell_type": "code",
   "execution_count": null,
   "metadata": {},
   "outputs": [],
   "source": []
  }
 ],
 "metadata": {
  "interpreter": {
   "hash": "397704579725e15f5c7cb49fe5f0341eb7531c82d19f2c29d197e8b64ab5776b"
  },
  "kernelspec": {
   "display_name": "Python 3.9.12 64-bit",
   "language": "python",
   "name": "python3"
  },
  "language_info": {
   "codemirror_mode": {
    "name": "ipython",
    "version": 3
   },
   "file_extension": ".py",
   "mimetype": "text/x-python",
   "name": "python",
   "nbconvert_exporter": "python",
   "pygments_lexer": "ipython3",
   "version": "3.9.12"
  },
  "orig_nbformat": 4
 },
 "nbformat": 4,
 "nbformat_minor": 2
}
